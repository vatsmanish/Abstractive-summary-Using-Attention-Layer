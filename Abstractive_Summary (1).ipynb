{
  "nbformat": 4,
  "nbformat_minor": 0,
  "metadata": {
    "colab": {
      "name": "Abstractive_Summary.ipynb",
      "provenance": []
    },
    "kernelspec": {
      "name": "python3",
      "display_name": "Python 3"
    },
    "accelerator": "GPU"
  },
  "cells": [
    {
      "cell_type": "markdown",
      "metadata": {
        "id": "GFIJC_Rk_qTL",
        "colab_type": "text"
      },
      "source": [
        "## Problem Statement\n",
        "#### Customer reviews can often be long and descriptive. Analyzing these reviews manually, as you can imagine, is really time-consuming. This is where the brilliance of Natural Language Processing can be applied to generate a summary for long reviews.\n",
        "\n",
        "We will be working on a really cool dataset. Our objective here is to generate a summary for the Amazon Fine Food reviews using the abstraction-based approach we learned about above. You can download the dataset from Kaggle"
      ]
    },
    {
      "cell_type": "code",
      "metadata": {
        "id": "HCEz_oJ5CWbV",
        "colab_type": "code",
        "outputId": "97cd0cbe-3a87-42e7-8236-e2e4a9ade99e",
        "colab": {
          "base_uri": "https://localhost:8080/",
          "height": 122
        }
      },
      "source": [
        "# Load the Drive helper and mount\n",
        "from google.colab import drive\n",
        "\n",
        "# This will prompt for authorization.\n",
        "drive.mount('/content/gdrive')\n",
        "#* updating filepath to your Google Drive\n",
        "\n",
        "#Make sure you have this path available in your google drive\n",
        "data=\"/content/gdrive/My Drive/colab_notebooks/amazon_food.csv\""
      ],
      "execution_count": 2,
      "outputs": [
        {
          "output_type": "stream",
          "text": [
            "Go to this URL in a browser: https://accounts.google.com/o/oauth2/auth?client_id=947318989803-6bn6qk8qdgf4n4g3pfee6491hc0brc4i.apps.googleusercontent.com&redirect_uri=urn%3aietf%3awg%3aoauth%3a2.0%3aoob&response_type=code&scope=email%20https%3a%2f%2fwww.googleapis.com%2fauth%2fdocs.test%20https%3a%2f%2fwww.googleapis.com%2fauth%2fdrive%20https%3a%2f%2fwww.googleapis.com%2fauth%2fdrive.photos.readonly%20https%3a%2f%2fwww.googleapis.com%2fauth%2fpeopleapi.readonly\n",
            "\n",
            "Enter your authorization code:\n",
            "··········\n",
            "Mounted at /content/gdrive\n"
          ],
          "name": "stdout"
        }
      ]
    },
    {
      "cell_type": "markdown",
      "metadata": {
        "id": "cHjnQlkpCDPZ",
        "colab_type": "text"
      },
      "source": [
        "## Read the dataset\n",
        "### This dataset consists of reviews of fine foods from Amazon. The data spans a period of more than 10 years, including all ~500,000 reviews up to October 2012. These reviews include product and user information, ratings, plain text review, and summary. It also includes reviews from all other Amazon categories.\n",
        "\n",
        "### We’ll take a sample of 100,000 reviews to reduce the training time of our model. Feel free to use the entire dataset for training your model if your machine has that kind of computational power."
      ]
    },
    {
      "cell_type": "markdown",
      "metadata": {
        "id": "VsoUo6Q6AKxp",
        "colab_type": "text"
      },
      "source": [
        "#### This dataset has 578413 Reviews but due to lack of time and system capability i am using only on 100000 if u want bothered about your acccuracy you can also use a lots of data for training ."
      ]
    },
    {
      "cell_type": "code",
      "metadata": {
        "id": "ZXFeI6wTCpaE",
        "colab_type": "code",
        "outputId": "29b77599-75bc-4553-cc1e-90663f8dbd53",
        "colab": {
          "base_uri": "https://localhost:8080/",
          "height": 80
        }
      },
      "source": [
        "import pandas as pd # import pandas for read the file\n",
        "import re # import regex for remove the useless symbols.... \n",
        "from bs4 import BeautifulSoup # if you want to take the data fromA API or web scrapping then use this \n",
        "from keras.preprocessing.text import Tokenizer # import tokenizer to token word\n",
        "from keras.preprocessing.sequence import pad_sequences   # import pad sequence works as it fill zero on the blank value\n",
        "from nltk.corpus import stopwords # use stopwords  for preprocessing \n",
        "from tensorflow.keras.layers import Input, LSTM, Embedding, Dense, Concatenate, TimeDistributed ## use lstm embadding dense\n",
        "from tensorflow.keras.models import Model  \n",
        "from tensorflow.keras.callbacks import EarlyStopping # use earlystopping  to avoid overfitting\n",
        "import warnings\n",
        "pd.set_option(\"display.max_colwidth\", 200)\n",
        "warnings.filterwarnings(\"ignore\")"
      ],
      "execution_count": 3,
      "outputs": [
        {
          "output_type": "stream",
          "text": [
            "Using TensorFlow backend.\n"
          ],
          "name": "stderr"
        },
        {
          "output_type": "display_data",
          "data": {
            "text/html": [
              "<p style=\"color: red;\">\n",
              "The default version of TensorFlow in Colab will soon switch to TensorFlow 2.x.<br>\n",
              "We recommend you <a href=\"https://www.tensorflow.org/guide/migrate\" target=\"_blank\">upgrade</a> now \n",
              "or ensure your notebook will continue to use TensorFlow 1.x via the <code>%tensorflow_version 1.x</code> magic:\n",
              "<a href=\"https://colab.research.google.com/notebooks/tensorflow_version.ipynb\" target=\"_blank\">more info</a>.</p>\n"
            ],
            "text/plain": [
              "<IPython.core.display.HTML object>"
            ]
          },
          "metadata": {
            "tags": []
          }
        }
      ]
    },
    {
      "cell_type": "code",
      "metadata": {
        "id": "2B9LbynGCbWA",
        "colab_type": "code",
        "colab": {}
      },
      "source": [
        "# read te dataset\n",
        "data = pd.read_csv(data)[:200000]"
      ],
      "execution_count": 0,
      "outputs": []
    },
    {
      "cell_type": "code",
      "metadata": {
        "id": "Ids83GDaC5pz",
        "colab_type": "code",
        "colab": {}
      },
      "source": [
        "# drop duplicate and NA values\n",
        "data.drop_duplicates(subset=['Text'],inplace=True)#dropping duplicates\n",
        "data.dropna(axis=0,inplace=True)#dropping na"
      ],
      "execution_count": 0,
      "outputs": []
    },
    {
      "cell_type": "markdown",
      "metadata": {
        "id": "3ksfzGTpCSnI",
        "colab_type": "text"
      },
      "source": [
        "### Information about dataset"
      ]
    },
    {
      "cell_type": "code",
      "metadata": {
        "id": "vyevZ2r2CZog",
        "colab_type": "code",
        "outputId": "dc621f4d-c05d-461a-d2bd-d00e7f9a42e3",
        "colab": {
          "base_uri": "https://localhost:8080/",
          "height": 272
        }
      },
      "source": [
        "data.info()"
      ],
      "execution_count": 0,
      "outputs": [
        {
          "output_type": "stream",
          "text": [
            "<class 'pandas.core.frame.DataFrame'>\n",
            "Int64Index: 162834 entries, 0 to 199999\n",
            "Data columns (total 10 columns):\n",
            "Id                        162834 non-null int64\n",
            "ProductId                 162834 non-null object\n",
            "UserId                    162834 non-null object\n",
            "ProfileName               162834 non-null object\n",
            "HelpfulnessNumerator      162834 non-null int64\n",
            "HelpfulnessDenominator    162834 non-null int64\n",
            "Score                     162834 non-null int64\n",
            "Time                      162834 non-null int64\n",
            "Summary                   162834 non-null object\n",
            "Text                      162834 non-null object\n",
            "dtypes: int64(5), object(5)\n",
            "memory usage: 13.7+ MB\n"
          ],
          "name": "stdout"
        }
      ]
    },
    {
      "cell_type": "code",
      "metadata": {
        "id": "tApirT1zCd0s",
        "colab_type": "code",
        "outputId": "16101ec0-c436-4847-8174-11e3843cfd93",
        "colab": {
          "base_uri": "https://localhost:8080/",
          "height": 297
        }
      },
      "source": [
        "data.describe()"
      ],
      "execution_count": 0,
      "outputs": [
        {
          "output_type": "execute_result",
          "data": {
            "text/html": [
              "<div>\n",
              "<style scoped>\n",
              "    .dataframe tbody tr th:only-of-type {\n",
              "        vertical-align: middle;\n",
              "    }\n",
              "\n",
              "    .dataframe tbody tr th {\n",
              "        vertical-align: top;\n",
              "    }\n",
              "\n",
              "    .dataframe thead th {\n",
              "        text-align: right;\n",
              "    }\n",
              "</style>\n",
              "<table border=\"1\" class=\"dataframe\">\n",
              "  <thead>\n",
              "    <tr style=\"text-align: right;\">\n",
              "      <th></th>\n",
              "      <th>Id</th>\n",
              "      <th>HelpfulnessNumerator</th>\n",
              "      <th>HelpfulnessDenominator</th>\n",
              "      <th>Score</th>\n",
              "      <th>Time</th>\n",
              "    </tr>\n",
              "  </thead>\n",
              "  <tbody>\n",
              "    <tr>\n",
              "      <th>count</th>\n",
              "      <td>162834.000000</td>\n",
              "      <td>162834.000000</td>\n",
              "      <td>162834.00000</td>\n",
              "      <td>162834.000000</td>\n",
              "      <td>1.628340e+05</td>\n",
              "    </tr>\n",
              "    <tr>\n",
              "      <th>mean</th>\n",
              "      <td>94083.608945</td>\n",
              "      <td>1.700922</td>\n",
              "      <td>2.17314</td>\n",
              "      <td>4.168466</td>\n",
              "      <td>1.296507e+09</td>\n",
              "    </tr>\n",
              "    <tr>\n",
              "      <th>std</th>\n",
              "      <td>57457.267552</td>\n",
              "      <td>6.784802</td>\n",
              "      <td>7.39892</td>\n",
              "      <td>1.312606</td>\n",
              "      <td>4.770465e+07</td>\n",
              "    </tr>\n",
              "    <tr>\n",
              "      <th>min</th>\n",
              "      <td>1.000000</td>\n",
              "      <td>0.000000</td>\n",
              "      <td>0.00000</td>\n",
              "      <td>1.000000</td>\n",
              "      <td>9.393408e+08</td>\n",
              "    </tr>\n",
              "    <tr>\n",
              "      <th>25%</th>\n",
              "      <td>43533.250000</td>\n",
              "      <td>0.000000</td>\n",
              "      <td>0.00000</td>\n",
              "      <td>4.000000</td>\n",
              "      <td>1.271462e+09</td>\n",
              "    </tr>\n",
              "    <tr>\n",
              "      <th>50%</th>\n",
              "      <td>91353.500000</td>\n",
              "      <td>0.000000</td>\n",
              "      <td>1.00000</td>\n",
              "      <td>5.000000</td>\n",
              "      <td>1.311293e+09</td>\n",
              "    </tr>\n",
              "    <tr>\n",
              "      <th>75%</th>\n",
              "      <td>143102.750000</td>\n",
              "      <td>2.000000</td>\n",
              "      <td>2.00000</td>\n",
              "      <td>5.000000</td>\n",
              "      <td>1.332634e+09</td>\n",
              "    </tr>\n",
              "    <tr>\n",
              "      <th>max</th>\n",
              "      <td>200000.000000</td>\n",
              "      <td>866.000000</td>\n",
              "      <td>878.00000</td>\n",
              "      <td>5.000000</td>\n",
              "      <td>1.351210e+09</td>\n",
              "    </tr>\n",
              "  </tbody>\n",
              "</table>\n",
              "</div>"
            ],
            "text/plain": [
              "                  Id  HelpfulnessNumerator  ...          Score          Time\n",
              "count  162834.000000         162834.000000  ...  162834.000000  1.628340e+05\n",
              "mean    94083.608945              1.700922  ...       4.168466  1.296507e+09\n",
              "std     57457.267552              6.784802  ...       1.312606  4.770465e+07\n",
              "min         1.000000              0.000000  ...       1.000000  9.393408e+08\n",
              "25%     43533.250000              0.000000  ...       4.000000  1.271462e+09\n",
              "50%     91353.500000              0.000000  ...       5.000000  1.311293e+09\n",
              "75%    143102.750000              2.000000  ...       5.000000  1.332634e+09\n",
              "max    200000.000000            866.000000  ...       5.000000  1.351210e+09\n",
              "\n",
              "[8 rows x 5 columns]"
            ]
          },
          "metadata": {
            "tags": []
          },
          "execution_count": 6
        }
      ]
    },
    {
      "cell_type": "code",
      "metadata": {
        "id": "0t2FCtGlCk4J",
        "colab_type": "code",
        "outputId": "1f073d02-baff-49d7-e1d0-b693013710c8",
        "colab": {
          "base_uri": "https://localhost:8080/",
          "height": 238
        }
      },
      "source": [
        "data.dtypes"
      ],
      "execution_count": 0,
      "outputs": [
        {
          "output_type": "execute_result",
          "data": {
            "text/plain": [
              "Id                         int64\n",
              "ProductId                 object\n",
              "UserId                    object\n",
              "ProfileName               object\n",
              "HelpfulnessNumerator       int64\n",
              "HelpfulnessDenominator     int64\n",
              "Score                      int64\n",
              "Time                       int64\n",
              "Summary                   object\n",
              "Text                      object\n",
              "cleaned_text              object\n",
              "cleaned_summary           object\n",
              "dtype: object"
            ]
          },
          "metadata": {
            "tags": []
          },
          "execution_count": 47
        }
      ]
    },
    {
      "cell_type": "markdown",
      "metadata": {
        "id": "jw0wSftUCpiy",
        "colab_type": "text"
      },
      "source": [
        "## import stopwords form nltk libray to remove stopwords"
      ]
    },
    {
      "cell_type": "code",
      "metadata": {
        "id": "SnDtg-IADBkc",
        "colab_type": "code",
        "outputId": "9809d2ca-2dcf-46c2-f380-d5b8ee69773b",
        "colab": {
          "base_uri": "https://localhost:8080/",
          "height": 68
        }
      },
      "source": [
        "import nltk\n",
        "nltk.download('stopwords')"
      ],
      "execution_count": 6,
      "outputs": [
        {
          "output_type": "stream",
          "text": [
            "[nltk_data] Downloading package stopwords to /root/nltk_data...\n",
            "[nltk_data]   Unzipping corpora/stopwords.zip.\n"
          ],
          "name": "stdout"
        },
        {
          "output_type": "execute_result",
          "data": {
            "text/plain": [
              "True"
            ]
          },
          "metadata": {
            "tags": []
          },
          "execution_count": 6
        }
      ]
    },
    {
      "cell_type": "markdown",
      "metadata": {
        "id": "diXfvzQYDDzh",
        "colab_type": "text"
      },
      "source": [
        "# Now, Perform most important processing"
      ]
    },
    {
      "cell_type": "markdown",
      "metadata": {
        "id": "SZRlPqFhDJau",
        "colab_type": "text"
      },
      "source": [
        "#####  Performing basic preprocessing steps is very important before we get to the model building part. Using messy and uncleaned text data is a potentially disastrous move. So in this step, we will drop all the unwanted symbols, characters, etc. from the text that do not affect the objective of our problem.\n",
        "\n",
        "Here is the dictionary that we will use for expanding the contractions:"
      ]
    },
    {
      "cell_type": "code",
      "metadata": {
        "id": "vBwyDw-RC-Zq",
        "colab_type": "code",
        "colab": {}
      },
      "source": [
        "contraction_mapping = {\"ain't\": \"is not\", \"aren't\": \"are not\",\"can't\": \"cannot\", \"'cause\": \"because\", \"could've\": \"could have\", \"couldn't\": \"could not\",\n",
        "                           \"didn't\": \"did not\",  \"doesn't\": \"does not\", \"don't\": \"do not\", \"hadn't\": \"had not\", \"hasn't\": \"has not\", \"haven't\": \"have not\",\n",
        "                           \"he'd\": \"he would\",\"he'll\": \"he will\", \"he's\": \"he is\", \"how'd\": \"how did\", \"how'd'y\": \"how do you\", \"how'll\": \"how will\", \"how's\": \"how is\",\n",
        "                           \"I'd\": \"I would\", \"I'd've\": \"I would have\", \"I'll\": \"I will\", \"I'll've\": \"I will have\",\"I'm\": \"I am\", \"I've\": \"I have\", \"i'd\": \"i would\",\n",
        "                           \"i'd've\": \"i would have\", \"i'll\": \"i will\",  \"i'll've\": \"i will have\",\"i'm\": \"i am\", \"i've\": \"i have\", \"isn't\": \"is not\", \"it'd\": \"it would\",\n",
        "                           \"it'd've\": \"it would have\", \"it'll\": \"it will\", \"it'll've\": \"it will have\",\"it's\": \"it is\", \"let's\": \"let us\", \"ma'am\": \"madam\",\n",
        "                           \"mayn't\": \"may not\", \"might've\": \"might have\",\"mightn't\": \"might not\",\"mightn't've\": \"might not have\", \"must've\": \"must have\",\n",
        "                           \"mustn't\": \"must not\", \"mustn't've\": \"must not have\", \"needn't\": \"need not\", \"needn't've\": \"need not have\",\"o'clock\": \"of the clock\",\n",
        "                           \"oughtn't\": \"ought not\", \"oughtn't've\": \"ought not have\", \"shan't\": \"shall not\", \"sha'n't\": \"shall not\", \"shan't've\": \"shall not have\",\n",
        "                           \"she'd\": \"she would\", \"she'd've\": \"she would have\", \"she'll\": \"she will\", \"she'll've\": \"she will have\", \"she's\": \"she is\",\n",
        "                           \"should've\": \"should have\", \"shouldn't\": \"should not\", \"shouldn't've\": \"should not have\", \"so've\": \"so have\",\"so's\": \"so as\",\n",
        "                           \"this's\": \"this is\",\"that'd\": \"that would\", \"that'd've\": \"that would have\", \"that's\": \"that is\", \"there'd\": \"there would\",\n",
        "                           \"there'd've\": \"there would have\", \"there's\": \"there is\", \"here's\": \"here is\",\"they'd\": \"they would\", \"they'd've\": \"they would have\",\n",
        "                           \"they'll\": \"they will\", \"they'll've\": \"they will have\", \"they're\": \"they are\", \"they've\": \"they have\", \"to've\": \"to have\",\n",
        "                           \"wasn't\": \"was not\", \"we'd\": \"we would\", \"we'd've\": \"we would have\", \"we'll\": \"we will\", \"we'll've\": \"we will have\", \"we're\": \"we are\",\n",
        "                           \"we've\": \"we have\", \"weren't\": \"were not\", \"what'll\": \"what will\", \"what'll've\": \"what will have\", \"what're\": \"what are\",\n",
        "                           \"what's\": \"what is\", \"what've\": \"what have\", \"when's\": \"when is\", \"when've\": \"when have\", \"where'd\": \"where did\", \"where's\": \"where is\",\n",
        "                           \"where've\": \"where have\", \"who'll\": \"who will\", \"who'll've\": \"who will have\", \"who's\": \"who is\", \"who've\": \"who have\",\n",
        "                           \"why's\": \"why is\", \"why've\": \"why have\", \"will've\": \"will have\", \"won't\": \"will not\", \"won't've\": \"will not have\",\n",
        "                           \"would've\": \"would have\", \"wouldn't\": \"would not\", \"wouldn't've\": \"would not have\", \"y'all\": \"you all\",\n",
        "                           \"y'all'd\": \"you all would\",\"y'all'd've\": \"you all would have\",\"y'all're\": \"you all are\",\"y'all've\": \"you all have\",\n",
        "                           \"you'd\": \"you would\", \"you'd've\": \"you would have\", \"you'll\": \"you will\", \"you'll've\": \"you will have\",\n",
        "                           \"you're\": \"you are\", \"you've\": \"you have\"}"
      ],
      "execution_count": 0,
      "outputs": []
    },
    {
      "cell_type": "code",
      "metadata": {
        "id": "y6-sRaVKDKJz",
        "colab_type": "code",
        "colab": {}
      },
      "source": [
        "stop_words = set(stopwords.words('english')) \n",
        "\n",
        "def text_cleaner(text,num):\n",
        "    newString = text.lower()\n",
        "    newString = BeautifulSoup(newString, \"lxml\").text\n",
        "    newString = re.sub(r'\\([^)]*\\)', '', newString)\n",
        "    newString = re.sub('\"','', newString)\n",
        "    newString = ' '.join([contraction_mapping[t] if t in contraction_mapping else t for t in newString.split(\" \")])    \n",
        "    newString = re.sub(r\"'s\\b\",\"\",newString)\n",
        "    newString = re.sub(\"[^a-zA-Z]\", \" \", newString) \n",
        "    newString = re.sub('[m]{2,}', 'mm', newString)\n",
        "    if(num==0):\n",
        "        tokens = [w for w in newString.split() if not w in stop_words]\n",
        "    else:\n",
        "        tokens=newString.split()\n",
        "    long_words=[]\n",
        "    for i in tokens:\n",
        "        if len(i)>1:                                                 #removing short word\n",
        "            long_words.append(i)   \n",
        "    return (\" \".join(long_words)).strip()"
      ],
      "execution_count": 0,
      "outputs": []
    },
    {
      "cell_type": "markdown",
      "metadata": {
        "id": "zlmodkPLDR_s",
        "colab_type": "text"
      },
      "source": [
        "### We will perform the below preprocessing tasks for our data:\n",
        "\n",
        "1.Convert everything to lowercase\n",
        "\n",
        "2.Remove HTML tags\n",
        "\n",
        "3.Contraction mapping\n",
        "\n",
        "4.Remove (‘s)\n",
        "\n",
        "5.Remove any text inside the parenthesis ( )\n",
        "\n",
        "6.Eliminate punctuations and special characters\n",
        "\n",
        "7.Remove stopwords\n",
        "\n",
        "8.Remove short words\n",
        "\n",
        "Let’s define the function"
      ]
    },
    {
      "cell_type": "code",
      "metadata": {
        "id": "I08or-h4DK9S",
        "colab_type": "code",
        "colab": {}
      },
      "source": [
        "cleaned_text = []\n",
        "for t in data['Text']:\n",
        "    cleaned_text.append(text_cleaner(t,0))"
      ],
      "execution_count": 0,
      "outputs": []
    },
    {
      "cell_type": "code",
      "metadata": {
        "id": "gzr67PoTDOHK",
        "colab_type": "code",
        "colab": {}
      },
      "source": [
        "#call the function\n",
        "cleaned_summary = []\n",
        "for t in data['Summary']:\n",
        "    cleaned_summary.append(text_cleaner(t,1))"
      ],
      "execution_count": 0,
      "outputs": []
    },
    {
      "cell_type": "code",
      "metadata": {
        "id": "IuCJGNdyDcJw",
        "colab_type": "code",
        "colab": {}
      },
      "source": [
        "data['cleaned_text']=cleaned_text\n",
        "data['cleaned_summary']=cleaned_summary"
      ],
      "execution_count": 0,
      "outputs": []
    },
    {
      "cell_type": "code",
      "metadata": {
        "id": "4kYjoME9DfsF",
        "colab_type": "code",
        "colab": {}
      },
      "source": [
        "import numpy as np\n",
        "\n",
        "data.replace('', np.nan, inplace=True)\n",
        "data.dropna(axis=0,inplace=True)"
      ],
      "execution_count": 0,
      "outputs": []
    },
    {
      "cell_type": "markdown",
      "metadata": {
        "id": "U61RuUT_DaEv",
        "colab_type": "text"
      },
      "source": [
        "## Understanding the distribution of the sequences\n",
        "Here, we will analyze the length of the reviews and the summary to get an overall idea about the distribution of length of the text. This will help us fix the maximum length of the sequence:"
      ]
    },
    {
      "cell_type": "code",
      "metadata": {
        "id": "1OYRT-OFDjF5",
        "colab_type": "code",
        "outputId": "686ed7c7-0b54-45e3-ca64-caa5cf114f20",
        "colab": {
          "base_uri": "https://localhost:8080/",
          "height": 281
        }
      },
      "source": [
        "import matplotlib.pyplot as plt\n",
        "\n",
        "text_word_count = []\n",
        "summary_word_count = []\n",
        "\n",
        "# populate the lists with sentence lengths\n",
        "for i in data['cleaned_text']:\n",
        "      text_word_count.append(len(i.split()))\n",
        "\n",
        "for i in data['cleaned_summary']:\n",
        "      summary_word_count.append(len(i.split()))\n",
        "\n",
        "length_df = pd.DataFrame({'text':text_word_count, 'summary':summary_word_count})\n",
        "\n",
        "length_df.hist(bins = 30)\n",
        "plt.show()"
      ],
      "execution_count": 14,
      "outputs": [
        {
          "output_type": "display_data",
          "data": {
            "image/png": "[encoded data removed]",
            "text/plain": [
              "<Figure size 432x288 with 2 Axes>"
            ]
          },
          "metadata": {
            "tags": []
          }
        }
      ]
    },
    {
      "cell_type": "code",
      "metadata": {
        "id": "LXk5iBkcDtX1",
        "colab_type": "code",
        "outputId": "6814f5cd-8c63-4782-9906-3f585a1b29ea",
        "colab": {
          "base_uri": "https://localhost:8080/",
          "height": 34
        }
      },
      "source": [
        "cnt=0\n",
        "for i in data['cleaned_summary']:\n",
        "    if(len(i.split())<=8):\n",
        "        cnt=cnt+1\n",
        "print(cnt/len(data['cleaned_summary']))"
      ],
      "execution_count": 15,
      "outputs": [
        {
          "output_type": "stream",
          "text": [
            "0.9439564829896432\n"
          ],
          "name": "stdout"
        }
      ]
    },
    {
      "cell_type": "code",
      "metadata": {
        "id": "RKadDFfTDwRm",
        "colab_type": "code",
        "colab": {}
      },
      "source": [
        "max_text_len=30\n",
        "max_summary_len=8"
      ],
      "execution_count": 0,
      "outputs": []
    },
    {
      "cell_type": "code",
      "metadata": {
        "id": "XYZA7JAKDyx3",
        "colab_type": "code",
        "colab": {}
      },
      "source": [
        "cleaned_text =np.array(data['cleaned_text'])\n",
        "cleaned_summary=np.array(data['cleaned_summary'])\n",
        "\n",
        "short_text=[]\n",
        "short_summary=[]\n",
        "\n",
        "for i in range(len(cleaned_text)):\n",
        "    if(len(cleaned_summary[i].split())<=max_summary_len and len(cleaned_text[i].split())<=max_text_len):\n",
        "        short_text.append(cleaned_text[i])\n",
        "        short_summary.append(cleaned_summary[i])\n",
        "        \n",
        "df=pd.DataFrame({'text':short_text,'summary':short_summary})"
      ],
      "execution_count": 0,
      "outputs": []
    },
    {
      "cell_type": "code",
      "metadata": {
        "id": "BrewAeAJD2Ar",
        "colab_type": "code",
        "colab": {}
      },
      "source": [
        "df['summary'] = df['summary'].apply(lambda x : 'sostok '+ x + ' eostok')"
      ],
      "execution_count": 0,
      "outputs": []
    },
    {
      "cell_type": "markdown",
      "metadata": {
        "id": "H78d1_yzDusL",
        "colab_type": "text"
      },
      "source": [
        "## train test split"
      ]
    },
    {
      "cell_type": "code",
      "metadata": {
        "id": "uCYN90gJD45C",
        "colab_type": "code",
        "colab": {}
      },
      "source": [
        "from sklearn.model_selection import train_test_split\n",
        "x_tr,x_val,y_tr,y_val=train_test_split(np.array(df['text']),np.array(df['summary']),test_size=0.1,random_state=0,shuffle=True)"
      ],
      "execution_count": 0,
      "outputs": []
    },
    {
      "cell_type": "markdown",
      "metadata": {
        "id": "OB_Nf93uD27i",
        "colab_type": "text"
      },
      "source": [
        "# Preparing the Tokenizer\n",
        "A tokenizer builds the vocabulary and converts a word sequence to an integer sequence. Go ahead and build tokenizers for text and summary:\n",
        "\n",
        "# Text Tokenizer"
      ]
    },
    {
      "cell_type": "code",
      "metadata": {
        "id": "0zweZZ9OD7ow",
        "colab_type": "code",
        "colab": {}
      },
      "source": [
        "from keras.preprocessing.text import Tokenizer \n",
        "from keras.preprocessing.sequence import pad_sequences\n",
        "\n",
        "#prepare a tokenizer for reviews on training data\n",
        "x_tokenizer = Tokenizer() \n",
        "x_tokenizer.fit_on_texts(list(x_tr))"
      ],
      "execution_count": 0,
      "outputs": []
    },
    {
      "cell_type": "markdown",
      "metadata": {
        "id": "8W88FtEGD1l_",
        "colab_type": "text"
      },
      "source": [
        "\n",
        "## Rarewords and its Coverage\n",
        "Let us look at the proportion rare words and its total coverage in the entire text\n",
        "\n",
        "Here, I am defining the threshold to be 4 which means word whose count is below 4 is considered as a rare word\n",
        "\n"
      ]
    },
    {
      "cell_type": "code",
      "metadata": {
        "id": "uyGG0euiD_N1",
        "colab_type": "code",
        "outputId": "00f3ec31-2745-4b33-812a-a1ba2fcd7f15",
        "colab": {
          "base_uri": "https://localhost:8080/",
          "height": 51
        }
      },
      "source": [
        "thresh=4\n",
        "\n",
        "cnt=0\n",
        "tot_cnt=0\n",
        "freq=0\n",
        "tot_freq=0\n",
        "\n",
        "for key,value in x_tokenizer.word_counts.items():\n",
        "    tot_cnt=tot_cnt+1\n",
        "    tot_freq=tot_freq+value\n",
        "    if(value<thresh):\n",
        "        cnt=cnt+1\n",
        "        freq=freq+value\n",
        "    \n",
        "print(\"% of rare words in vocabulary:\",(cnt/tot_cnt)*100)\n",
        "print(\"Total Coverage of rare words:\",(freq/tot_freq)*100)"
      ],
      "execution_count": 21,
      "outputs": [
        {
          "output_type": "stream",
          "text": [
            "% of rare words in vocabulary: 66.73746690331403\n",
            "Total Coverage of rare words: 2.1848453887258286\n"
          ],
          "name": "stdout"
        }
      ]
    },
    {
      "cell_type": "markdown",
      "metadata": {
        "id": "P6O9yV5WEGIS",
        "colab_type": "text"
      },
      "source": [
        "## tot_cnt gives the size of vocabulary (which means every unique words in the text)\n",
        "\n",
        "* cnt gives me the no. of rare words whose count falls below threshold\n",
        "\n",
        "* tot_cnt - cnt gives me the top most common words\n",
        "\n",
        "* Let us define the tokenizer with top most common words for reviews."
      ]
    },
    {
      "cell_type": "code",
      "metadata": {
        "id": "KiM2gAoyECoD",
        "colab_type": "code",
        "colab": {}
      },
      "source": [
        "#prepare a tokenizer for reviews on training data\n",
        "x_tokenizer = Tokenizer(num_words=tot_cnt-cnt) \n",
        "x_tokenizer.fit_on_texts(list(x_tr))\n",
        "\n",
        "#convert text sequences into integer sequences\n",
        "x_tr_seq    =   x_tokenizer.texts_to_sequences(x_tr) \n",
        "x_val_seq   =   x_tokenizer.texts_to_sequences(x_val)\n",
        "\n",
        "#padding zero upto maximum length\n",
        "x_tr    =   pad_sequences(x_tr_seq,  maxlen=max_text_len, padding='post')\n",
        "x_val   =   pad_sequences(x_val_seq, maxlen=max_text_len, padding='post')\n",
        "\n",
        "#size of vocabulary ( +1 for padding token)\n",
        "x_voc   =  x_tokenizer.num_words + 1"
      ],
      "execution_count": 0,
      "outputs": []
    },
    {
      "cell_type": "code",
      "metadata": {
        "id": "4mY8uDKOENxU",
        "colab_type": "code",
        "outputId": "cb75492b-e0ea-4883-fdc1-d71c96334a68",
        "colab": {
          "base_uri": "https://localhost:8080/",
          "height": 34
        }
      },
      "source": [
        "x_voc"
      ],
      "execution_count": 23,
      "outputs": [
        {
          "output_type": "execute_result",
          "data": {
            "text/plain": [
              "11433"
            ]
          },
          "metadata": {
            "tags": []
          },
          "execution_count": 23
        }
      ]
    },
    {
      "cell_type": "code",
      "metadata": {
        "id": "q0tW0BCpEQ4s",
        "colab_type": "code",
        "colab": {}
      },
      "source": [
        "#x_tr_seq"
      ],
      "execution_count": 0,
      "outputs": []
    },
    {
      "cell_type": "markdown",
      "metadata": {
        "id": "S7qaVxpoEamy",
        "colab_type": "text"
      },
      "source": [
        "## summary tokenizer"
      ]
    },
    {
      "cell_type": "code",
      "metadata": {
        "id": "82GZnIbKEFDn",
        "colab_type": "code",
        "colab": {}
      },
      "source": [
        "#prepare a tokenizer for reviews on training data\n",
        "y_tokenizer = Tokenizer()   \n",
        "y_tokenizer.fit_on_texts(list(y_tr))"
      ],
      "execution_count": 0,
      "outputs": []
    },
    {
      "cell_type": "markdown",
      "metadata": {
        "id": "6Lm2-XuaEgeJ",
        "colab_type": "text"
      },
      "source": [
        "# Rarewords and its Coverage\n",
        "Let us look at the proportion rare words and its total coverage in the entire summary\n",
        "\n",
        "Here, I am defining the threshold to be 6 which means word whose count is below 6 is considered as a rare word"
      ]
    },
    {
      "cell_type": "code",
      "metadata": {
        "id": "Nf7M3NvPEIfK",
        "colab_type": "code",
        "outputId": "0b4107ab-c819-45d2-c270-4046bf160681",
        "colab": {
          "base_uri": "https://localhost:8080/",
          "height": 51
        }
      },
      "source": [
        "thresh=6\n",
        "\n",
        "cnt=0\n",
        "tot_cnt=0\n",
        "freq=0\n",
        "tot_freq=0\n",
        "\n",
        "for key,value in y_tokenizer.word_counts.items():\n",
        "    tot_cnt=tot_cnt+1\n",
        "    tot_freq=tot_freq+value\n",
        "    if(value<thresh):\n",
        "        cnt=cnt+1\n",
        "        freq=freq+value\n",
        "    \n",
        "print(\"% of rare words in vocabulary:\",(cnt/tot_cnt)*100)\n",
        "print(\"Total Coverage of rare words:\",(freq/tot_freq)*100)"
      ],
      "execution_count": 26,
      "outputs": [
        {
          "output_type": "stream",
          "text": [
            "% of rare words in vocabulary: 76.95611432141185\n",
            "Total Coverage of rare words: 3.969070293687\n"
          ],
          "name": "stdout"
        }
      ]
    },
    {
      "cell_type": "code",
      "metadata": {
        "id": "2UZLHGZxEa8C",
        "colab_type": "code",
        "colab": {}
      },
      "source": [
        "#prepare a tokenizer for reviews on training data\n",
        "y_tokenizer = Tokenizer(num_words=tot_cnt-cnt) \n",
        "y_tokenizer.fit_on_texts(list(y_tr))\n",
        "\n",
        "#convert text sequences into integer sequences\n",
        "y_tr_seq    =   y_tokenizer.texts_to_sequences(y_tr) \n",
        "y_val_seq   =   y_tokenizer.texts_to_sequences(y_val) \n",
        "\n",
        "#padding zero upto maximum length\n",
        "y_tr    =   pad_sequences(y_tr_seq, maxlen=max_summary_len, padding='post')\n",
        "y_val   =   pad_sequences(y_val_seq, maxlen=max_summary_len, padding='post')\n",
        "\n",
        "#size of vocabulary\n",
        "y_voc  =   y_tokenizer.num_words +1"
      ],
      "execution_count": 0,
      "outputs": []
    },
    {
      "cell_type": "code",
      "metadata": {
        "id": "IES-ifU0EiAW",
        "colab_type": "code",
        "outputId": "911abf32-bc84-47ea-b89f-ad3d07f82d6d",
        "colab": {
          "base_uri": "https://localhost:8080/",
          "height": 34
        }
      },
      "source": [
        "y_tokenizer.word_counts['sostok'],len(y_tr)"
      ],
      "execution_count": 28,
      "outputs": [
        {
          "output_type": "execute_result",
          "data": {
            "text/plain": [
              "(78858, 78858)"
            ]
          },
          "metadata": {
            "tags": []
          },
          "execution_count": 28
        }
      ]
    },
    {
      "cell_type": "code",
      "metadata": {
        "id": "ZxL4zwE4ElBo",
        "colab_type": "code",
        "colab": {}
      },
      "source": [
        "ind=[]\n",
        "for i in range(len(y_tr)):\n",
        "    cnt=0\n",
        "    for j in y_tr[i]:\n",
        "        if j!=0:\n",
        "            cnt=cnt+1\n",
        "    if(cnt==2):\n",
        "        ind.append(i)\n",
        "\n",
        "y_tr=np.delete(y_tr,ind, axis=0)\n",
        "x_tr=np.delete(x_tr,ind, axis=0)"
      ],
      "execution_count": 0,
      "outputs": []
    },
    {
      "cell_type": "code",
      "metadata": {
        "id": "gapHEGP9Epxz",
        "colab_type": "code",
        "colab": {}
      },
      "source": [
        "ind=[]\n",
        "for i in range(len(y_val)):\n",
        "    cnt=0\n",
        "    for j in y_val[i]:\n",
        "        if j!=0:\n",
        "            cnt=cnt+1\n",
        "    if(cnt==2):\n",
        "        ind.append(i)\n",
        "\n",
        "y_val=np.delete(y_val,ind, axis=0)\n",
        "x_val=np.delete(x_val,ind, axis=0)"
      ],
      "execution_count": 0,
      "outputs": []
    },
    {
      "cell_type": "markdown",
      "metadata": {
        "id": "TyodtFN4E8mr",
        "colab_type": "text"
      },
      "source": [
        "## Attention Layer:-"
      ]
    },
    {
      "cell_type": "code",
      "metadata": {
        "id": "8yQ0ElSQEy2P",
        "colab_type": "code",
        "colab": {}
      },
      "source": [
        "import tensorflow as tf\n",
        "import os\n",
        "from tensorflow.python.keras.layers import Layer\n",
        "from tensorflow.python.keras import backend as K\n",
        "\n",
        "\n",
        "class AttentionLayer(Layer):\n",
        "    \"\"\"\n",
        "    This class implements Bahdanau attention (https://arxiv.org/pdf/1409.0473.pdf).\n",
        "    There are three sets of weights introduced W_a, U_a, and V_a\n",
        "     \"\"\"\n",
        "\n",
        "    def __init__(self, **kwargs):\n",
        "        super(AttentionLayer, self).__init__(**kwargs)\n",
        "\n",
        "    def build(self, input_shape):\n",
        "        assert isinstance(input_shape, list)\n",
        "        # Create a trainable weight variable for this layer.\n",
        "\n",
        "        self.W_a = self.add_weight(name='W_a',\n",
        "                                   shape=tf.TensorShape((input_shape[0][2], input_shape[0][2])),\n",
        "                                   initializer='uniform',\n",
        "                                   trainable=True)\n",
        "        self.U_a = self.add_weight(name='U_a',\n",
        "                                   shape=tf.TensorShape((input_shape[1][2], input_shape[0][2])),\n",
        "                                   initializer='uniform',\n",
        "                                   trainable=True)\n",
        "        self.V_a = self.add_weight(name='V_a',\n",
        "                                   shape=tf.TensorShape((input_shape[0][2], 1)),\n",
        "                                   initializer='uniform',\n",
        "                                   trainable=True)\n",
        "\n",
        "        super(AttentionLayer, self).build(input_shape)  # Be sure to call this at the end\n",
        "\n",
        "    def call(self, inputs, verbose=False):\n",
        "        \"\"\"\n",
        "        inputs: [encoder_output_sequence, decoder_output_sequence]\n",
        "        \"\"\"\n",
        "        assert type(inputs) == list\n",
        "        encoder_out_seq, decoder_out_seq = inputs\n",
        "        if verbose:\n",
        "            print('encoder_out_seq>', encoder_out_seq.shape)\n",
        "            print('decoder_out_seq>', decoder_out_seq.shape)\n",
        "\n",
        "        def energy_step(inputs, states):\n",
        "            \"\"\" Step function for computing energy for a single decoder state \"\"\"\n",
        "\n",
        "            assert_msg = \"States must be a list. However states {} is of type {}\".format(states, type(states))\n",
        "            assert isinstance(states, list) or isinstance(states, tuple), assert_msg\n",
        "\n",
        "            \"\"\" Some parameters required for shaping tensors\"\"\"\n",
        "            en_seq_len, en_hidden = encoder_out_seq.shape[1], encoder_out_seq.shape[2]\n",
        "            de_hidden = inputs.shape[-1]\n",
        "\n",
        "            \"\"\" Computing S.Wa where S=[s0, s1, ..., si]\"\"\"\n",
        "            # <= batch_size*en_seq_len, latent_dim\n",
        "            reshaped_enc_outputs = K.reshape(encoder_out_seq, (-1, en_hidden))\n",
        "            # <= batch_size*en_seq_len, latent_dim\n",
        "            W_a_dot_s = K.reshape(K.dot(reshaped_enc_outputs, self.W_a), (-1, en_seq_len, en_hidden))\n",
        "            if verbose:\n",
        "                print('wa.s>',W_a_dot_s.shape)\n",
        "\n",
        "            \"\"\" Computing hj.Ua \"\"\"\n",
        "            U_a_dot_h = K.expand_dims(K.dot(inputs, self.U_a), 1)  # <= batch_size, 1, latent_dim\n",
        "            if verbose:\n",
        "                print('Ua.h>',U_a_dot_h.shape)\n",
        "\n",
        "            \"\"\" tanh(S.Wa + hj.Ua) \"\"\"\n",
        "            # <= batch_size*en_seq_len, latent_dim\n",
        "            reshaped_Ws_plus_Uh = K.tanh(K.reshape(W_a_dot_s + U_a_dot_h, (-1, en_hidden)))\n",
        "            if verbose:\n",
        "                print('Ws+Uh>', reshaped_Ws_plus_Uh.shape)\n",
        "\n",
        "            \"\"\" softmax(va.tanh(S.Wa + hj.Ua)) \"\"\"\n",
        "            # <= batch_size, en_seq_len\n",
        "            e_i = K.reshape(K.dot(reshaped_Ws_plus_Uh, self.V_a), (-1, en_seq_len))\n",
        "            # <= batch_size, en_seq_len\n",
        "            e_i = K.softmax(e_i)\n",
        "\n",
        "            if verbose:\n",
        "                print('ei>', e_i.shape)\n",
        "\n",
        "            return e_i, [e_i]\n",
        "\n",
        "        def context_step(inputs, states):\n",
        "            \"\"\" Step function for computing ci using ei \"\"\"\n",
        "            # <= batch_size, hidden_size\n",
        "            c_i = K.sum(encoder_out_seq * K.expand_dims(inputs, -1), axis=1)\n",
        "            if verbose:\n",
        "                print('ci>', c_i.shape)\n",
        "            return c_i, [c_i]\n",
        "\n",
        "        def create_inital_state(inputs, hidden_size):\n",
        "            # We are not using initial states, but need to pass something to K.rnn funciton\n",
        "            fake_state = K.zeros_like(inputs)  # <= (batch_size, enc_seq_len, latent_dim\n",
        "            fake_state = K.sum(fake_state, axis=[1, 2])  # <= (batch_size)\n",
        "            fake_state = K.expand_dims(fake_state)  # <= (batch_size, 1)\n",
        "            fake_state = K.tile(fake_state, [1, hidden_size])  # <= (batch_size, latent_dim\n",
        "            return fake_state\n",
        "\n",
        "        fake_state_c = create_inital_state(encoder_out_seq, encoder_out_seq.shape[-1])\n",
        "        fake_state_e = create_inital_state(encoder_out_seq, encoder_out_seq.shape[1])  # <= (batch_size, enc_seq_len, latent_dim\n",
        "\n",
        "        \"\"\" Computing energy outputs \"\"\"\n",
        "        # e_outputs => (batch_size, de_seq_len, en_seq_len)\n",
        "        last_out, e_outputs, _ = K.rnn(\n",
        "            energy_step, decoder_out_seq, [fake_state_e],\n",
        "        )\n",
        "\n",
        "        \"\"\" Computing context vectors \"\"\"\n",
        "        last_out, c_outputs, _ = K.rnn(\n",
        "            context_step, e_outputs, [fake_state_c],\n",
        "        )\n",
        "\n",
        "        return c_outputs, e_outputs\n",
        "\n",
        "    def compute_output_shape(self, input_shape):\n",
        "        \"\"\" Outputs produced by the layer \"\"\"\n",
        "        return [\n",
        "            tf.TensorShape((input_shape[1][0], input_shape[1][1], input_shape[1][2])),\n",
        "            tf.TensorShape((input_shape[1][0], input_shape[1][1], input_shape[0][1]))\n",
        "        ]\n"
      ],
      "execution_count": 0,
      "outputs": []
    },
    {
      "cell_type": "markdown",
      "metadata": {
        "id": "8S09mmA6EpAY",
        "colab_type": "text"
      },
      "source": [
        "# Model building\n",
        "We are finally at the model building part. But before we do that, we need to familiarize ourselves with a few terms which are required prior to building the model.\n",
        "\n",
        "* Return Sequences = True: When the return sequences parameter is set to True, LSTM produces the hidden state and cell state for every timestep\n",
        "\n",
        "* Return State = True: When return state = True, LSTM produces the hidden state and cell state of the last timestep only\n",
        "\n",
        "* Initial State: This is used to initialize the internal states of the LSTM for the first timestep\n",
        "\n",
        "* Stacked LSTM: Stacked LSTM has multiple layers of LSTM stacked on top of each other. This leads to a better representation of the sequence. I encourage you to experiment with the multiple layers of the LSTM stacked on top of each other (it’s a great way to learn this)\n",
        "\n",
        "Here, we are building a 3 stacked LSTM for the encoder:"
      ]
    },
    {
      "cell_type": "code",
      "metadata": {
        "id": "dWejpYocEsEk",
        "colab_type": "code",
        "outputId": "f9d49523-4401-4697-84b7-dc52fc9b2270",
        "colab": {
          "base_uri": "https://localhost:8080/",
          "height": 853
        }
      },
      "source": [
        "from keras import backend as K \n",
        "K.clear_session()\n",
        "\n",
        "latent_dim = 300\n",
        "embedding_dim=100\n",
        "\n",
        "# Encoder\n",
        "encoder_inputs = Input(shape=(max_text_len,))\n",
        "\n",
        "#embedding layer\n",
        "enc_emb =  Embedding(x_voc, embedding_dim,trainable=True)(encoder_inputs)\n",
        "\n",
        "#encoder lstm 1\n",
        "encoder_lstm1 = LSTM(latent_dim,return_sequences=True,return_state=True,dropout=0.4,recurrent_dropout=0.4)\n",
        "encoder_output1, state_h1, state_c1 = encoder_lstm1(enc_emb)\n",
        "\n",
        "#encoder lstm 2\n",
        "encoder_lstm2 = LSTM(latent_dim,return_sequences=True,return_state=True,dropout=0.4,recurrent_dropout=0.4)\n",
        "encoder_output2, state_h2, state_c2 = encoder_lstm2(encoder_output1)\n",
        "\n",
        "#encoder lstm 3\n",
        "encoder_lstm3=LSTM(latent_dim, return_state=True, return_sequences=True,dropout=0.4,recurrent_dropout=0.4)\n",
        "encoder_outputs, state_h, state_c= encoder_lstm3(encoder_output2)\n",
        "\n",
        "# Set up the decoder, using `encoder_states` as initial state.\n",
        "decoder_inputs = Input(shape=(None,))\n",
        "\n",
        "#embedding layer\n",
        "dec_emb_layer = Embedding(y_voc, embedding_dim,trainable=True)\n",
        "dec_emb = dec_emb_layer(decoder_inputs)\n",
        "\n",
        "decoder_lstm = LSTM(latent_dim, return_sequences=True, return_state=True,dropout=0.4,recurrent_dropout=0.2)\n",
        "decoder_outputs,decoder_fwd_state, decoder_back_state = decoder_lstm(dec_emb,initial_state=[state_h, state_c])\n",
        "\n",
        "# Attention layer\n",
        "attn_layer = AttentionLayer(name='attention_layer')\n",
        "attn_out, attn_states = attn_layer([encoder_outputs, decoder_outputs])\n",
        "\n",
        "# Concat attention input and decoder LSTM output\n",
        "decoder_concat_input = Concatenate(axis=-1, name='concat_layer')([decoder_outputs, attn_out])\n",
        "\n",
        "#dense layer\n",
        "decoder_dense =  TimeDistributed(Dense(y_voc, activation='softmax'))\n",
        "decoder_outputs = decoder_dense(decoder_concat_input)\n",
        "\n",
        "# Define the model \n",
        "model = Model([encoder_inputs, decoder_inputs], decoder_outputs)\n",
        "\n",
        "model.summary()"
      ],
      "execution_count": 32,
      "outputs": [
        {
          "output_type": "stream",
          "text": [
            "WARNING:tensorflow:From /usr/local/lib/python3.6/dist-packages/keras/backend/tensorflow_backend.py:107: The name tf.reset_default_graph is deprecated. Please use tf.compat.v1.reset_default_graph instead.\n",
            "\n",
            "WARNING:tensorflow:From /usr/local/lib/python3.6/dist-packages/keras/backend/tensorflow_backend.py:111: The name tf.placeholder_with_default is deprecated. Please use tf.compat.v1.placeholder_with_default instead.\n",
            "\n",
            "WARNING:tensorflow:From /usr/local/lib/python3.6/dist-packages/keras/backend/tensorflow_backend.py:66: The name tf.get_default_graph is deprecated. Please use tf.compat.v1.get_default_graph instead.\n",
            "\n",
            "WARNING:tensorflow:From /usr/local/lib/python3.6/dist-packages/tensorflow_core/python/keras/initializers.py:119: calling RandomUniform.__init__ (from tensorflow.python.ops.init_ops) with dtype is deprecated and will be removed in a future version.\n",
            "Instructions for updating:\n",
            "Call initializer instance with the dtype argument instead of passing it to the constructor\n",
            "WARNING:tensorflow:From /usr/local/lib/python3.6/dist-packages/tensorflow_core/python/ops/resource_variable_ops.py:1630: calling BaseResourceVariable.__init__ (from tensorflow.python.ops.resource_variable_ops) with constraint is deprecated and will be removed in a future version.\n",
            "Instructions for updating:\n",
            "If using Keras pass *_constraint arguments to layers.\n",
            "WARNING:tensorflow:From /usr/local/lib/python3.6/dist-packages/tensorflow_core/python/autograph/converters/directives.py:119: The name tf.sparse_tensor_dense_matmul is deprecated. Please use tf.sparse.sparse_dense_matmul instead.\n",
            "\n",
            "Model: \"model\"\n",
            "__________________________________________________________________________________________________\n",
            "Layer (type)                    Output Shape         Param #     Connected to                     \n",
            "==================================================================================================\n",
            "input_1 (InputLayer)            [(None, 30)]         0                                            \n",
            "__________________________________________________________________________________________________\n",
            "embedding (Embedding)           (None, 30, 100)      1143300     input_1[0][0]                    \n",
            "__________________________________________________________________________________________________\n",
            "lstm (LSTM)                     [(None, 30, 300), (N 481200      embedding[0][0]                  \n",
            "__________________________________________________________________________________________________\n",
            "input_2 (InputLayer)            [(None, None)]       0                                            \n",
            "__________________________________________________________________________________________________\n",
            "lstm_1 (LSTM)                   [(None, 30, 300), (N 721200      lstm[0][0]                       \n",
            "__________________________________________________________________________________________________\n",
            "embedding_1 (Embedding)         (None, None, 100)    295200      input_2[0][0]                    \n",
            "__________________________________________________________________________________________________\n",
            "lstm_2 (LSTM)                   [(None, 30, 300), (N 721200      lstm_1[0][0]                     \n",
            "__________________________________________________________________________________________________\n",
            "lstm_3 (LSTM)                   [(None, None, 300),  481200      embedding_1[0][0]                \n",
            "                                                                 lstm_2[0][1]                     \n",
            "                                                                 lstm_2[0][2]                     \n",
            "__________________________________________________________________________________________________\n",
            "attention_layer (AttentionLayer ((None, None, 300),  180300      lstm_2[0][0]                     \n",
            "                                                                 lstm_3[0][0]                     \n",
            "__________________________________________________________________________________________________\n",
            "concat_layer (Concatenate)      (None, None, 600)    0           lstm_3[0][0]                     \n",
            "                                                                 attention_layer[0][0]            \n",
            "__________________________________________________________________________________________________\n",
            "time_distributed (TimeDistribut (None, None, 2952)   1774152     concat_layer[0][0]               \n",
            "==================================================================================================\n",
            "Total params: 5,797,752\n",
            "Trainable params: 5,797,752\n",
            "Non-trainable params: 0\n",
            "__________________________________________________________________________________________________\n"
          ],
          "name": "stdout"
        }
      ]
    },
    {
      "cell_type": "markdown",
      "metadata": {
        "id": "rELOtraEFJQ6",
        "colab_type": "text"
      },
      "source": [
        "#### I am using sparse categorical cross-entropy as the loss function since it converts the integer sequence to a one-hot vector on the fly. This overcomes any memory issues."
      ]
    },
    {
      "cell_type": "code",
      "metadata": {
        "id": "zbrieMn7Ewfm",
        "colab_type": "code",
        "colab": {}
      },
      "source": [
        "model.compile(optimizer='rmsprop', loss='sparse_categorical_crossentropy',metrics = ['accuracy'])"
      ],
      "execution_count": 0,
      "outputs": []
    },
    {
      "cell_type": "markdown",
      "metadata": {
        "id": "uLBs5K0eFLWV",
        "colab_type": "text"
      },
      "source": [
        "#### Remember the concept of early stopping? It is used to stop training the neural network at the right time by monitoring a user-specified metric. Here, I am monitoring the validation loss (val_loss). Our model will stop training once the validation loss increases:"
      ]
    },
    {
      "cell_type": "code",
      "metadata": {
        "id": "RBi9UbrkFSPU",
        "colab_type": "code",
        "colab": {}
      },
      "source": [
        "es = EarlyStopping(monitor='val_loss', mode='min', verbose=1,patience=2)"
      ],
      "execution_count": 0,
      "outputs": []
    },
    {
      "cell_type": "markdown",
      "metadata": {
        "id": "WMstwzCdFUG-",
        "colab_type": "text"
      },
      "source": [
        "#### We’ll train the model on a batch size of 128 and validate it on the holdout set (which is 10% of our dataset):"
      ]
    },
    {
      "cell_type": "code",
      "metadata": {
        "id": "ryYviI2VFVS3",
        "colab_type": "code",
        "outputId": "a6fa454d-270f-4534-9925-125f5dcb9e8f",
        "colab": {
          "base_uri": "https://localhost:8080/",
          "height": 972
        }
      },
      "source": [
        "history=model.fit([x_tr,y_tr[:,:-1]], y_tr.reshape(y_tr.shape[0],y_tr.shape[1], 1)[:,1:] ,epochs=50,callbacks=[es],batch_size=128, validation_data=([x_val,y_val[:,:-1]], y_val.reshape(y_val.shape[0],y_val.shape[1], 1)[:,1:]))"
      ],
      "execution_count": 35,
      "outputs": [
        {
          "output_type": "stream",
          "text": [
            "WARNING:tensorflow:From /usr/local/lib/python3.6/dist-packages/tensorflow_core/python/ops/math_grad.py:1424: where (from tensorflow.python.ops.array_ops) is deprecated and will be removed in a future version.\n",
            "Instructions for updating:\n",
            "Use tf.where in 2.0, which has the same broadcast rule as np.where\n",
            "Train on 77266 samples, validate on 8554 samples\n",
            "Epoch 1/50\n",
            "77266/77266 [==============================] - 101s 1ms/sample - loss: 2.8125 - acc: 0.5773 - val_loss: 2.5445 - val_acc: 0.6024\n",
            "Epoch 2/50\n",
            "77266/77266 [==============================] - 98s 1ms/sample - loss: 2.4757 - acc: 0.6081 - val_loss: 2.3692 - val_acc: 0.6163\n",
            "Epoch 3/50\n",
            "77266/77266 [==============================] - 97s 1ms/sample - loss: 2.3426 - acc: 0.6199 - val_loss: 2.2789 - val_acc: 0.6238\n",
            "Epoch 4/50\n",
            "77266/77266 [==============================] - 97s 1ms/sample - loss: 2.2633 - acc: 0.6267 - val_loss: 2.2186 - val_acc: 0.6310\n",
            "Epoch 5/50\n",
            "77266/77266 [==============================] - 99s 1ms/sample - loss: 2.2067 - acc: 0.6317 - val_loss: 2.1810 - val_acc: 0.6344\n",
            "Epoch 6/50\n",
            "77266/77266 [==============================] - 98s 1ms/sample - loss: 2.1607 - acc: 0.6352 - val_loss: 2.1425 - val_acc: 0.6382\n",
            "Epoch 7/50\n",
            "77266/77266 [==============================] - 97s 1ms/sample - loss: 2.1226 - acc: 0.6385 - val_loss: 2.1191 - val_acc: 0.6410\n",
            "Epoch 8/50\n",
            "77266/77266 [==============================] - 97s 1ms/sample - loss: 2.0919 - acc: 0.6413 - val_loss: 2.1001 - val_acc: 0.6426\n",
            "Epoch 9/50\n",
            "77266/77266 [==============================] - 97s 1ms/sample - loss: 2.0649 - acc: 0.6437 - val_loss: 2.0878 - val_acc: 0.6440\n",
            "Epoch 10/50\n",
            "77266/77266 [==============================] - 97s 1ms/sample - loss: 2.0401 - acc: 0.6455 - val_loss: 2.0718 - val_acc: 0.6446\n",
            "Epoch 11/50\n",
            "77266/77266 [==============================] - 97s 1ms/sample - loss: 2.0173 - acc: 0.6475 - val_loss: 2.0617 - val_acc: 0.6456\n",
            "Epoch 12/50\n",
            "77266/77266 [==============================] - 96s 1ms/sample - loss: 1.9971 - acc: 0.6494 - val_loss: 2.0602 - val_acc: 0.6466\n",
            "Epoch 13/50\n",
            "77266/77266 [==============================] - 96s 1ms/sample - loss: 1.9793 - acc: 0.6510 - val_loss: 2.0426 - val_acc: 0.6483\n",
            "Epoch 14/50\n",
            "77266/77266 [==============================] - 96s 1ms/sample - loss: 1.9617 - acc: 0.6522 - val_loss: 2.0373 - val_acc: 0.6480\n",
            "Epoch 15/50\n",
            "77266/77266 [==============================] - 96s 1ms/sample - loss: 1.9448 - acc: 0.6537 - val_loss: 2.0335 - val_acc: 0.6479\n",
            "Epoch 16/50\n",
            "77266/77266 [==============================] - 95s 1ms/sample - loss: 1.9280 - acc: 0.6549 - val_loss: 2.0253 - val_acc: 0.6486\n",
            "Epoch 17/50\n",
            "77266/77266 [==============================] - 96s 1ms/sample - loss: 1.9126 - acc: 0.6559 - val_loss: 2.0152 - val_acc: 0.6497\n",
            "Epoch 18/50\n",
            "77266/77266 [==============================] - 95s 1ms/sample - loss: 1.9015 - acc: 0.6573 - val_loss: 2.0104 - val_acc: 0.6520\n",
            "Epoch 19/50\n",
            "77266/77266 [==============================] - 95s 1ms/sample - loss: 1.8911 - acc: 0.6579 - val_loss: 2.0131 - val_acc: 0.6507\n",
            "Epoch 20/50\n",
            "77266/77266 [==============================] - 95s 1ms/sample - loss: 1.8799 - acc: 0.6592 - val_loss: 2.0104 - val_acc: 0.6509\n",
            "Epoch 21/50\n",
            "77266/77266 [==============================] - 99s 1ms/sample - loss: 1.8715 - acc: 0.6596 - val_loss: 2.0140 - val_acc: 0.6500\n",
            "Epoch 22/50\n",
            "77266/77266 [==============================] - 104s 1ms/sample - loss: 1.8613 - acc: 0.6604 - val_loss: 2.0061 - val_acc: 0.6513\n",
            "Epoch 23/50\n",
            "77266/77266 [==============================] - 101s 1ms/sample - loss: 1.8497 - acc: 0.6619 - val_loss: 2.0002 - val_acc: 0.6515\n",
            "Epoch 24/50\n",
            "77266/77266 [==============================] - 99s 1ms/sample - loss: 1.8410 - acc: 0.6623 - val_loss: 2.0083 - val_acc: 0.6499\n",
            "Epoch 25/50\n",
            "77266/77266 [==============================] - 99s 1ms/sample - loss: 1.8332 - acc: 0.6631 - val_loss: 2.0055 - val_acc: 0.6509\n",
            "Epoch 00025: early stopping\n"
          ],
          "name": "stdout"
        }
      ]
    },
    {
      "cell_type": "markdown",
      "metadata": {
        "id": "NV0tUpgFFcav",
        "colab_type": "text"
      },
      "source": [
        "# Understanding the Diagnostic plot\n",
        "#### Now, we will plot a few diagnostic plots to understand the behavior of the model over time:"
      ]
    },
    {
      "cell_type": "code",
      "metadata": {
        "id": "iNhrcWR-FcVR",
        "colab_type": "code",
        "outputId": "efa2d982-1dbd-454f-974d-d279906e2cbd",
        "colab": {
          "base_uri": "https://localhost:8080/",
          "height": 265
        }
      },
      "source": [
        "from matplotlib import pyplot\n",
        "pyplot.plot(history.history['loss'], label='train')\n",
        "pyplot.plot(history.history['val_loss'], label='test')\n",
        "pyplot.legend()\n",
        "pyplot.show()"
      ],
      "execution_count": 0,
      "outputs": [
        {
          "output_type": "display_data",
          "data": {
            "image/png": "[encoded data removed]",
            "text/plain": [
              "<Figure size 432x288 with 1 Axes>"
            ]
          },
          "metadata": {
            "tags": []
          }
        }
      ]
    },
    {
      "cell_type": "markdown",
      "metadata": {
        "id": "s37I3HNtFiwS",
        "colab_type": "text"
      },
      "source": [
        "# From the plot, we can infer that validation loss has increased after epoch 17 for 2 successive epochs. Hence, training is stopped at epoch 19.\n",
        "\n",
        "Next, let’s build the dictionary to convert the index to word for target and source vocabulary:"
      ]
    },
    {
      "cell_type": "code",
      "metadata": {
        "id": "jGI05Wcl-7zv",
        "colab_type": "code",
        "colab": {}
      },
      "source": [
        "reverse_target_word_index=y_tokenizer.index_word\n",
        "reverse_source_word_index=x_tokenizer.index_word\n",
        "target_word_index=y_tokenizer.word_index"
      ],
      "execution_count": 0,
      "outputs": []
    },
    {
      "cell_type": "markdown",
      "metadata": {
        "id": "iz9izZXhFpNM",
        "colab_type": "text"
      },
      "source": [
        "# infrences"
      ]
    },
    {
      "cell_type": "code",
      "metadata": {
        "id": "VtItXvXS_Eej",
        "colab_type": "code",
        "colab": {}
      },
      "source": [
        "# Encode the input sequence to get the feature vector\n",
        "encoder_model = Model(inputs=encoder_inputs,outputs=[encoder_outputs, state_h, state_c])\n",
        "\n",
        "# Decoder setup\n",
        "# Below tensors will hold the states of the previous time step\n",
        "decoder_state_input_h = Input(shape=(latent_dim,))\n",
        "decoder_state_input_c = Input(shape=(latent_dim,))\n",
        "decoder_hidden_state_input = Input(shape=(max_text_len,latent_dim))\n",
        "\n",
        "# Get the embeddings of the decoder sequence\n",
        "dec_emb2= dec_emb_layer(decoder_inputs) \n",
        "# To predict the next word in the sequence, set the initial states to the states from the previous time step\n",
        "decoder_outputs2, state_h2, state_c2 = decoder_lstm(dec_emb2, initial_state=[decoder_state_input_h, decoder_state_input_c])\n",
        "\n",
        "#attention inference\n",
        "attn_out_inf, attn_states_inf = attn_layer([decoder_hidden_state_input, decoder_outputs2])\n",
        "decoder_inf_concat = Concatenate(axis=-1, name='concat')([decoder_outputs2, attn_out_inf])\n",
        "\n",
        "# A dense softmax layer to generate prob dist. over the target vocabulary\n",
        "decoder_outputs2 = decoder_dense(decoder_inf_concat) \n",
        "\n",
        "# Final decoder model\n",
        "decoder_model = Model(\n",
        "    [decoder_inputs] + [decoder_hidden_state_input,decoder_state_input_h, decoder_state_input_c],\n",
        "    [decoder_outputs2] + [state_h2, state_c2])"
      ],
      "execution_count": 0,
      "outputs": []
    },
    {
      "cell_type": "markdown",
      "metadata": {
        "id": "PgNrhi1nFvOy",
        "colab_type": "text"
      },
      "source": [
        "# We are defining a function below which is the implementation of the inference process (which we covered here):"
      ]
    },
    {
      "cell_type": "code",
      "metadata": {
        "id": "U2eEHBFm_KTu",
        "colab_type": "code",
        "colab": {}
      },
      "source": [
        "def decode_sequence(input_seq):\n",
        "    # Encode the input as state vectors.\n",
        "    e_out, e_h, e_c = encoder_model.predict(input_seq)\n",
        "    \n",
        "    # Generate empty target sequence of length 1.\n",
        "    target_seq = np.zeros((1,1))\n",
        "    \n",
        "    # Populate the first word of target sequence with the start word.\n",
        "    target_seq[0, 0] = target_word_index['sostok']\n",
        "\n",
        "    stop_condition = False\n",
        "    decoded_sentence = ''\n",
        "    while not stop_condition:\n",
        "      \n",
        "        output_tokens, h, c = decoder_model.predict([target_seq] + [e_out, e_h, e_c])\n",
        "\n",
        "        # Sample a token\n",
        "        sampled_token_index = np.argmax(output_tokens[0, -1, :])\n",
        "        sampled_token = reverse_target_word_index[sampled_token_index]\n",
        "        \n",
        "        if(sampled_token!='eostok'):\n",
        "            decoded_sentence += ' '+sampled_token\n",
        "\n",
        "        # Exit condition: either hit max length or find stop word.\n",
        "        if (sampled_token == 'eostok'  or len(decoded_sentence.split()) >= (max_summary_len-1)):\n",
        "            stop_condition = True\n",
        "\n",
        "        # Update the target sequence (of length 1).\n",
        "        target_seq = np.zeros((1,1))\n",
        "        target_seq[0, 0] = sampled_token_index\n",
        "\n",
        "        # Update internal states\n",
        "        e_h, e_c = h, c\n",
        "\n",
        "    return decoded_sentence"
      ],
      "execution_count": 0,
      "outputs": []
    },
    {
      "cell_type": "markdown",
      "metadata": {
        "id": "zkBBqHWzFzj_",
        "colab_type": "text"
      },
      "source": [
        "# Let us define the functions to convert an integer sequence to a word sequence for summary as well as the reviews:"
      ]
    },
    {
      "cell_type": "code",
      "metadata": {
        "id": "x8EP6Vt2_OOV",
        "colab_type": "code",
        "colab": {}
      },
      "source": [
        "def seq2summary(input_seq):\n",
        "    newString=''\n",
        "    for i in input_seq:\n",
        "        if((i!=0 and i!=target_word_index['sostok']) and i!=target_word_index['eostok']):\n",
        "            newString=newString+reverse_target_word_index[i]+' '\n",
        "    return newString\n",
        "\n",
        "def seq2text(input_seq):\n",
        "    newString=''\n",
        "    for i in input_seq:\n",
        "        if(i!=0):\n",
        "            newString=newString+reverse_source_word_index[i]+' '\n",
        "    return newString"
      ],
      "execution_count": 0,
      "outputs": []
    },
    {
      "cell_type": "markdown",
      "metadata": {
        "id": "OFBX2X1eF3Yz",
        "colab_type": "text"
      },
      "source": [
        "# Here are a few summaries generated by the model:"
      ]
    },
    {
      "cell_type": "code",
      "metadata": {
        "id": "j607j-be_S0z",
        "colab_type": "code",
        "outputId": "5ddc0b3d-942e-4975-85e1-471bcb9c3115",
        "colab": {
          "base_uri": "https://localhost:8080/",
          "height": 1000
        }
      },
      "source": [
        "for i in range(0,100):\n",
        "    print(\"Review:\",seq2text(x_tr[i]))\n",
        "    print(\"Original summary:\",seq2summary(y_tr[i]))\n",
        "    print(\"Predicted summary:\",decode_sequence(x_tr[i].reshape(1,max_text_len)))\n",
        "    print(\"\\n\")"
      ],
      "execution_count": 0,
      "outputs": [
        {
          "output_type": "stream",
          "text": [
            "Review: ordering another brand years wanted switch bit see products brand appealed cuts back considerably packaging waste tea green tea suitable tastes pretty standard problem really mint flavor speak \n",
            "Original summary: okay for green not minty however \n",
            "Predicted summary:  not the best tea\n",
            "\n",
            "\n",
            "Review: never find chai last states lived order tried chai mixes find stores replace one best delicious \n",
            "Original summary: amazon has it \n",
            "Predicted summary:  best chai\n",
            "\n",
            "\n",
            "Review: yummy cannot believe lbs give away much personally would purchased retail price jump amazon chocolates sale \n",
            "Original summary: yummy \n",
            "Predicted summary:  delicious\n",
            "\n",
            "\n",
            "Review: exactly looking keep fruit turning brown price great \n",
            "Original summary: fruit \n",
            "Predicted summary:  great product\n",
            "\n",
            "\n",
            "Review: love pop chips available area happy find available amazon free shipping yummy also healthy choice cannot beat deal like \n",
            "Original summary: great snack \n",
            "Predicted summary:  great chips\n",
            "\n",
            "\n",
            "Review: taste incredible lacks creamy taste ingredients also could improved much potatoes \n",
            "Original summary: just alright soup \n",
            "Predicted summary:  not what expected\n",
            "\n",
            "\n",
            "Review: love hot chocolate excited find variety pack however gross horrible taste kids dont even like boxes stuff one drink disapointed \n",
            "Original summary: very disapointed \n",
            "Predicted summary:  not bad\n",
            "\n",
            "\n",
            "Review: great product thing would like last longer dog maybe making tougher would extend dogs time task \n",
            "Original summary: better than ears \n",
            "Predicted summary:  great product\n",
            "\n",
            "\n",
            "Review: bought students study food liked tasted looked exactly expected bigger \n",
            "Original summary: classic only bigger \n",
            "Predicted summary:  great\n",
            "\n",
            "\n",
            "Review: love green mountain coffee first one bought got kurig strong \n",
            "Original summary: good coffee \n",
            "Predicted summary:  great coffee\n",
            "\n",
            "\n",
            "Review: received lemon snaps faster expected one bags missing order cookies ok much lemon flavor give rating \n",
            "Original summary: so so \n",
            "Predicted summary:  not what expected\n",
            "\n",
            "\n",
            "Review: taste awesome esp salt pepper one love really healthy packaging really good \n",
            "Original summary: amazing \n",
            "Predicted summary:  best salt\n",
            "\n",
            "\n",
            "Review: tea lots flavor sweet without use sweeteners \n",
            "Original summary: lots of flavor \n",
            "Predicted summary:  great tea\n",
            "\n",
            "\n",
            "Review: drank try keep awake fell asleep minutes drinking feel anything \n",
            "Original summary: it made me fall \n",
            "Predicted summary:  great product\n",
            "\n",
            "\n",
            "Review: love using coffee chocolate mint stash tea purchasing via amazon actually cheaper vitacost also choice bought option \n",
            "Original summary: yum \n",
            "Predicted summary:  great tea\n",
            "\n",
            "\n",
            "Review: got bag christmas used sweeten coffee wonderful stuff \n",
            "Original summary: great in coffee \n",
            "Predicted summary:  great coffee\n",
            "\n",
            "\n",
            "Review: love vita coconut water wonderful use smoothies recipes everyday great stuff live far grocery store get fresh coconuts best alternative \n",
            "Original summary: favorite drink \n",
            "Predicted summary:  great product\n",
            "\n",
            "\n",
            "Review: never met dog didnt like good hips \n",
            "Original summary: dogs love them \n",
            "Predicted summary:  great product\n",
            "\n",
            "\n",
            "Review: excellent product use almost every night used available costco longer handle would recommend anyone \n",
            "Original summary: great salad dressing \n",
            "Predicted summary:  great product\n",
            "\n",
            "\n",
            "Review: love product suffer sinus problems energy level really helps boost \n",
            "Original summary: great energy \n",
            "Predicted summary:  great product\n",
            "\n",
            "\n",
            "Review: keep finding rotten beef steak carton quality control poor jack link \n",
            "Original summary: more beef steak in \n",
            "Predicted summary:  great product\n",
            "\n",
            "\n",
            "Review: hooked big train brand chai tea products like hot really buying sugar added vanilla chai need sugar product surprisingly lack flavor little caloric teas really quite good \n",
            "Original summary: on the train \n",
            "Predicted summary:  great tea\n",
            "\n",
            "\n",
            "Review: might cost bit store bought popcorn really worth works perfectly whirly pop maker great \n",
            "Original summary: tasty popcorn \n",
            "Predicted summary:  great popcorn\n",
            "\n",
            "\n",
            "Review: liked coffee much subscribing dark rich smooth \n",
            "Original summary: makes great cup of java \n",
            "Predicted summary:  great coffee\n",
            "\n",
            "\n",
            "Review: love larabars love pistachios pistachio larabars awful horrid fruitcake taste enough pistachios back cashew cookie cherry pie \n",
            "Original summary: ick \n",
            "Predicted summary:  yuck\n",
            "\n",
            "\n",
            "Review: love stuff makes great iced coffee mainly buy cereal price good since stores seem going got sister hooked usually get cal prime time went cal \n",
            "Original summary: better than milk \n",
            "Predicted summary:  great coffee\n",
            "\n",
            "\n",
            "Review: taste snack well price second time would certainly \n",
            "Original summary: excellent \n",
            "Predicted summary:  great snack\n",
            "\n",
            "\n",
            "Review: best raisins plump favorful keep extras big freezer thaw need cannot say anything negative \n",
            "Original summary: soft and yummy \n",
            "Predicted summary:  delicious\n",
            "\n",
            "\n",
            "Review: love product substitute sugar one tell difference \n",
            "Original summary: best substitute \n",
            "Predicted summary:  great taste\n",
            "\n",
            "\n",
            "Review: like every flavor cheez addicted really tasty everyone house liked problem half box crumbs assume tossed around shipping bummer \n",
            "Original summary: really tasty but too many crumbs \n",
            "Predicted summary:  not the best\n",
            "\n",
            "\n",
            "Review: price plain robbery number stores including target oz waste money want \n",
            "Original summary: overpriced \n",
            "Predicted summary:  good product\n",
            "\n",
            "\n",
            "Review: waste money disgusting product chocolate taste tastes like plastic lining paper carton using milk treated ultra high temperatures like fresh milk go get fresh milk hershey syrup want chocolate milk \n",
            "Original summary: please do not waste your money \n",
            "Predicted summary:  yuck\n",
            "\n",
            "\n",
            "Review: shih tzu favorite treats tried getting brands similar treats compare quality veggie life happy hips chicken banana treats even labrador loves lot order one time well sealed stay fresh \n",
            "Original summary: my toy dogs love these treats \n",
            "Predicted summary:  my dog loves these\n",
            "\n",
            "\n",
            "Review: coffee turned favorite cups best full bodied rich tasting great way start day \n",
            "Original summary: tully french roast \n",
            "Predicted summary:  great coffee\n",
            "\n",
            "\n",
            "Review: great buy price cannot get kind deal anywhere local buy cream way long get \n",
            "Original summary: flavored cream \n",
            "Predicted summary:  great product\n",
            "\n",
            "\n",
            "Review: zoe excellent cooking oil metal container promotes integrity long shelf life also useful processes calling olive oil \n",
            "Original summary: excellent oil \n",
            "Predicted summary:  great product\n",
            "\n",
            "\n",
            "Review: awesome tasting like authentic ranch dressing dont eat many one sitting flavour overpower \n",
            "Original summary: yum \n",
            "Predicted summary:  delicious\n",
            "\n",
            "\n",
            "Review: ok surprised rich twinings teas would go way buy boxes last strong might like could use little similar vanilla flavored teas shelf level hoped something different twinnings \n",
            "Original summary: more vanilla please \n",
            "Predicted summary:  not the best tea\n",
            "\n",
            "\n",
            "Review: due poor packing pouches ordered broke throw leaked everywhere mess disappointed waste money \n",
            "Original summary: very disappointed \n",
            "Predicted summary:  poor packaging\n",
            "\n",
            "\n",
            "Review: vermont maple syrup originally ny grew vermont maple syrup used syrup lacks little tang vermont syrup come second tho \n",
            "Original summary: this is good syrup but \n",
            "Predicted summary:  delicious\n",
            "\n",
            "\n",
            "Review: love cooking brands high quality coconut oil stable higher temperatures evoo add foods per day patients improvement functions could ask \n",
            "Original summary: healthy coconut oil \n",
            "Predicted summary:  great product\n",
            "\n",
            "\n",
            "Review: since used product previously knew getting product arrived timely manner packaged well fresh would order needed since longer find product locally care brands offered \n",
            "Original summary: cocoa \n",
            "Predicted summary:  great product\n",
            "\n",
            "\n",
            "Review: nom nom nom delicious filling mention delicious much better average protein bars high calorie could eating snickers bar yum \n",
            "Original summary: like healthy bar \n",
            "Predicted summary:  great snack\n",
            "\n",
            "\n",
            "Review: must low carb used baking making low carb ice cream sauces without use flour corn starch amazon best price \n",
            "Original summary: little goes long way \n",
            "Predicted summary:  great\n",
            "\n",
            "\n",
            "Review: absolutely love cereal slight sweetness satisfies sweetness want cereal also stays crunchy longer regular corn flakes \n",
            "Original summary: best gluten free cereal ever \n",
            "Predicted summary:  great cereal\n",
            "\n",
            "\n",
            "Review: bought bars grandson college munch studying said delicious linda \n",
            "Original summary: think thin brownie bars \n",
            "Predicted summary:  great\n",
            "\n",
            "\n",
            "Review: sauce really delivers says label bold creamy spicy enough make salads sandwiches interesting without inducing tears thick creamy enough ideal salad dressing complement stacked sandwich repeat buy item us \n",
            "Original summary: bold and delicious \n",
            "Predicted summary:  great sauce\n",
            "\n",
            "\n",
            "Review: found accidentally searching greenies dental chews dogs husky seems like smoke flavor quite know help joints wanted prevent future problems \n",
            "Original summary: my loves them \n",
            "Predicted summary:  greenies\n",
            "\n",
            "\n",
            "Review: pricey essentially small bag hard crumbs maybe dog spoiled treats like third class treats definitely bottom doggie treat often simply walk away glad people like buying \n",
            "Original summary: waste of money \n",
            "Predicted summary:  my dog loves these\n",
            "\n",
            "\n",
            "Review: would like able buy choc jello cook serve sugar free pudding site cannot seem find let know \n",
            "Original summary: more flavors in this size \n",
            "Predicted summary:  good\n",
            "\n",
            "\n",
            "Review: best decaf tasted cups perfect cup coffee would read package know decaf full rich flavor bitterness \n",
            "Original summary: the best decaf in cups \n",
            "Predicted summary:  great decaf\n",
            "\n",
            "\n",
            "Review: originally bought promotion best raisins recently took shipment amazon pack canisters good family four months discount subscribe save helps cancel want receive anymore without \n",
            "Original summary: great raisins \n",
            "Predicted summary:  great product\n",
            "\n",
            "\n",
            "Review: could find orange flower water used years took chance bought brand disappointed helped us make great christmas morning \n",
            "Original summary: good product \n",
            "Predicted summary:  great product\n",
            "\n",
            "\n",
            "Review: make son gluten free diet take lunch love \n",
            "Original summary: yummy \n",
            "Predicted summary:  great product\n",
            "\n",
            "\n",
            "Review: coffee really bold opinion falls along medium roast flavor decent smooth coffee think really bold like cups though seriously overpriced \n",
            "Original summary: good coffee \n",
            "Predicted summary:  great coffee\n",
            "\n",
            "\n",
            "Review: picky house every time open venison holiday go crazy \n",
            "Original summary: doggy delight \n",
            "Predicted summary:  great\n",
            "\n",
            "\n",
            "Review: buy tangerine juice spring available entire year tasty tart still sweet satisfying \n",
            "Original summary: the best ever \n",
            "Predicted summary:  great\n",
            "\n",
            "\n",
            "Review: two mo old twins way eat oatmeal combination eb pear convenient especially quickly mixing breakfast morning packaging amazon always secure never broken jars recommended \n",
            "Original summary: babies love this \n",
            "Predicted summary:  great product\n",
            "\n",
            "\n",
            "Review: great still mine wrapped never seem finish cant exactly suck since hurts stick entire thing mouth licked point tongue started little \n",
            "Original summary: multi \n",
            "Predicted summary:  not as good as other\n",
            "\n",
            "\n",
            "Review: sams purchased mine last forever cost cannot argue \n",
            "Original summary: stars for the item for the price \n",
            "Predicted summary:  great product\n",
            "\n",
            "\n",
            "Review: like tomatoes fresh flavorful also come carton welcome alternative metal cans impart flavor sometimes lined plastic containing \n",
            "Original summary: yummy tomatoes good packaging \n",
            "Predicted summary:  great product\n",
            "\n",
            "\n",
            "Review: herbs wonderful come grinder opened package smell package aroma wonderful tried herbs provence give try french know herbs purchase herbs amazon amazon makes easy fast \n",
            "Original summary: of \n",
            "Predicted summary:  great taste\n",
            "\n",
            "\n",
            "Review: far one top two favorite flavors boulder chips bought bag yet devoured family one sitting \n",
            "Original summary: eaten in one \n",
            "Predicted summary:  great chips\n",
            "\n",
            "\n",
            "Review: definitely minority opinion vanilla flavor strong tasted artificial someone looking tea vanilla using vanilla tea bag green tea bag makes mellow brew buy spiced chai decaf much better \n",
            "Original summary: not bigelow best \n",
            "Predicted summary:  not very good\n",
            "\n",
            "\n",
            "Review: absolute worst flavored coffee ever put mouth took several sips sure hated fourth sip back cup thought possible shipment tainted chemicals please buy large quantity pawn someone like enjoy \n",
            "Original summary: weak coffee with \n",
            "Predicted summary:  weak coffee\n",
            "\n",
            "\n",
            "Review: provide stay paper one paper always falls area would wind wind \n",
            "Original summary: bit disappointing \n",
            "Predicted summary:  not what expected\n",
            "\n",
            "\n",
            "Review: great company first ever seen offer low acid option absolutely taste difference coffee without bitterness makes possible enjoy purity bean without bitter taste also cool black mugs love \n",
            "Original summary: best coffee ever \n",
            "Predicted summary:  great coffee\n",
            "\n",
            "\n",
            "Review: needed juniper berries recipe could find store pleased find pleased transaction back \n",
            "Original summary: hard to find product \n",
            "Predicted summary:  great product\n",
            "\n",
            "\n",
            "Review: food sam loves stuff stinky cheaper brands canned catfood going order flavors try \n",
            "Original summary: my cat at me every morning \n",
            "Predicted summary:  great food\n",
            "\n",
            "\n",
            "Review: good coffee great price look like works well needs stored air tight container purchase \n",
            "Original summary: good coffee great price \n",
            "Predicted summary:  great coffee\n",
            "\n",
            "\n",
            "Review: dried peaches bad compared dried apricots love would say little dried chew long time could swallow actually bought use recipe peaches cream cookies saw food channel \n",
            "Original summary: chewy \n",
            "Predicted summary:  great taste\n",
            "\n",
            "\n",
            "Review: like taste light roast light find brewing smaller cups coffee hoping stronger taste next time go medium dark roast think medium really liked \n",
            "Original summary: good blend but roast was too light \n",
            "Predicted summary:  not my cup of coffee\n",
            "\n",
            "\n",
            "Review: product good goes long way quite good one dd good product less \n",
            "Original summary: very good \n",
            "Predicted summary:  great product\n",
            "\n",
            "\n",
            "Review: unless missing boxes something way overpriced buy directly keurig member people really fall amazon let get away \n",
            "Original summary: way overpriced \n",
            "Predicted summary:  not what expected\n",
            "\n",
            "\n",
            "Review: delicious special something center gr receive gift would never buy personally great value money \n",
            "Original summary: review \n",
            "Predicted summary:  great product\n",
            "\n",
            "\n",
            "Review: bought product purpose making yogurt worked well also convenient size added baked goods casseroles \n",
            "Original summary: good product good size \n",
            "Predicted summary:  great product\n",
            "\n",
            "\n",
            "Review: colombia looking coffee tasted like back home everyday make coffee aroma whole kitchen feels like home tastes like love coffee \n",
            "Original summary: like good coffee \n",
            "Predicted summary:  great coffee\n",
            "\n",
            "\n",
            "Review: great packaging great product cat definitely approved variety pack fish flavored cat food little hesitant first tasted happy would recommend anyone cat taste fish \n",
            "Original summary: cat food \n",
            "Predicted summary:  my cats love it\n",
            "\n",
            "\n",
            "Review: good fast snack worth money used make great price per bar wasting time anymore make always one purse \n",
            "Original summary: saves me time great snack \n",
            "Predicted summary:  great snack\n",
            "\n",
            "\n",
            "Review: almond product wonderful excited healthy options curb sweet tooth sugars ounce almonds \n",
            "Original summary: excellent low sugar sweet treat \n",
            "Predicted summary:  chocolate\n",
            "\n",
            "\n",
            "Review: one picky siamese eat anything newman organics chicken brown rice formula recommendation eats must good \n",
            "Original summary: cat food ever \n",
            "Predicted summary:  my cats love it\n",
            "\n",
            "\n",
            "Review: product comes natural let us forget people canola oil horrible oil stated non gmo \n",
            "Original summary: oil no good \n",
            "Predicted summary:  good product\n",
            "\n",
            "\n",
            "Review: sauce one best flavors ever tasted good balance spice garlic decent heat tastes good lot things big fan habanero sauces due extra bitterness pepper sauce blends everything perfectly \n",
            "Original summary: great sauce \n",
            "Predicted summary:  great sauce\n",
            "\n",
            "\n",
            "Review: since abundance popcorn eat ever pops evenly little waste getting supply \n",
            "Original summary: love popcorn \n",
            "Predicted summary:  popcorn\n",
            "\n",
            "\n",
            "Review: really like medium strength coffee little bold considered medium almost bitter compared medium coffees \n",
            "Original summary: almost bitter \n",
            "Predicted summary:  great coffee\n",
            "\n",
            "\n",
            "Review: love chips auto order every months taste great whole bag calories bag every day sure helped weight loss little bags eat huge amount \n",
            "Original summary: great purchase \n",
            "Predicted summary:  great chips\n",
            "\n",
            "\n",
            "Review: great cereal help taste great stays fresh crunchy last bit going try cereals worth money love comes small boxes keeps cereal fresh \n",
            "Original summary: taste so good and crunchy \n",
            "Predicted summary:  great cereal\n",
            "\n",
            "\n",
            "Review: best cup coffee able find rich flavors medium roast love one \n",
            "Original summary: best high quality cup \n",
            "Predicted summary:  great coffee\n",
            "\n",
            "\n",
            "Review: love honey stinger waffles great price deff order run love choices thanks \n",
            "Original summary: love waffles \n",
            "Predicted summary:  great product\n",
            "\n",
            "\n",
            "Review: tea pretty basic black tea exotic flavorings added tea decent amount strength full bodied overwhelming quite satisfied cup tea generally prefer drink flavored teas basic black tea variety quite good \n",
            "Original summary: basic black tea \n",
            "Predicted summary:  great tea\n",
            "\n",
            "\n",
            "Review: long coat chihuahua loves food eats right feel good giving highly nutritious food junk dog six pounds require lot food suspect would pricey food give large dog though \n",
            "Original summary: my dog loves it \n",
            "Predicted summary:  great food\n",
            "\n",
            "\n",
            "Review: exceptional coffee priced league totally price hike seen long anywhere anything \n",
            "Original summary: price \n",
            "Predicted summary:  great coffee\n",
            "\n",
            "\n",
            "Review: idea real pickling spice point purchased supermarket brands pale comparison minute see bottle open smell spices inside see mean corned beef never tasted good \n",
            "Original summary: wow \n",
            "Predicted summary:  great flavor\n",
            "\n",
            "\n",
            "Review: best coconut water tasted tried plenty brands must buy like coconut water \n",
            "Original summary: great product \n",
            "Predicted summary:  great taste\n",
            "\n",
            "\n",
            "Review: love sweet nutty natural flavor truly delish snack given one part gift basket fell love many wonderful flavors including cashew chai chocolate addition original like \n",
            "Original summary: snack or meal replacement on the go \n",
            "Predicted summary:  great product\n",
            "\n",
            "\n",
            "Review: also bought costco per box included bags oz kids fighting remaining bags good buying due price high price prevent product reaching mass distribution \n",
            "Original summary: very good but too pricey \n",
            "Predicted summary:  good product\n",
            "\n",
            "\n",
            "Review: love haribo candies color gummi candy great love licorice gummy bears ate whole package one day \n",
            "Original summary: delicious \n",
            "Predicted summary:  great\n",
            "\n",
            "\n",
            "Review: nuts plump fat salty seemed bit dry fresh would liked purchase amount feel fresh nuts uniquely flavorful signature taste seemed many nuts lovely one another \n",
            "Original summary: plump and fat \n",
            "Predicted summary:  not as good as other\n",
            "\n",
            "\n",
            "Review: superb green tea organic decaf bags really filled get lot bang bag came larger boxes \n",
            "Original summary: excellent green tea \n",
            "Predicted summary:  great tea\n",
            "\n",
            "\n",
            "Review: used almost never stock inventory improved making delicious flavored coffee much flavor since normally drink coffee black quite good give shot \n",
            "Original summary: delicious \n",
            "Predicted summary:  best coffee ever\n",
            "\n",
            "\n"
          ],
          "name": "stdout"
        }
      ]
    },
    {
      "cell_type": "markdown",
      "metadata": {
        "id": "oSaMUD8jGA77",
        "colab_type": "text"
      },
      "source": [
        "## How can we Improve the Model’s Performance Even Further?\n",
        "### Your learning doesn’t stop here! There’s a lot more you can do to play around and experiment with the model:\n",
        "\n",
        "### I recommend you to increase the training dataset size and build the model. The generalization capability of a deep learning model enhances with an increase in the training dataset size\n",
        "\n",
        "### Try implementing Bi-Directional LSTM which is capable of capturing the context from both the directions and results in a better context vector\n",
        "\n",
        "### Use the beam search strategy for decoding the test sequence instead of using the greedy approach (argmax)\n",
        "\n",
        "### Evaluate the performance of your model based on the BLEU score\n",
        "\n",
        "### Implement pointer-generator networks and coverage mechanisms"
      ]
    },
    {
      "cell_type": "code",
      "metadata": {
        "id": "0oLM2Idc_XQ3",
        "colab_type": "code",
        "colab": {}
      },
      "source": [
        ""
      ],
      "execution_count": 0,
      "outputs": []
    }
  ]
}